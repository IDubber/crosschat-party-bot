{
 "cells": [
  {
   "cell_type": "code",
   "execution_count": 59,
   "metadata": {},
   "outputs": [
    {
     "name": "stdout",
     "output_type": "stream",
     "text": [
      "Users:\n",
      "User ID: 253050332, Name: Феликс\n",
      " Chats:\n",
      "  Chat ID: -4091985812, Name: Тут я один\n",
      "  Chat ID: -4060658918, Name: Мы тут втроем\n",
      "User ID: 5943154692, Name: Саша\n",
      " Chats:\n",
      "  Chat ID: -4060658918, Name: Мы тут втроем\n",
      "\n",
      "Chats:\n",
      "Chat ID: -4091985812, Name: Тут я один\n",
      " Members:\n",
      "  User ID: 253050332, Name: Феликс\n",
      "Chat ID: -4060658918, Name: Мы тут втроем\n",
      " Members:\n",
      "  User ID: 253050332, Name: Феликс\n",
      "  User ID: 5943154692, Name: Саша\n",
      "\n",
      "Parties:\n",
      "Party ID: 1, Description: 123\n",
      " Notified Users:\n",
      "  User ID: 253050332, Name: Феликс\n",
      "Party ID: 2, Description: 1234\n",
      " Notified Users:\n",
      "  User ID: 253050332, Name: Феликс\n",
      "  User ID: 5943154692, Name: Саша\n"
     ]
    }
   ],
   "source": [
    "from sqlalchemy import create_engine\n",
    "from sqlalchemy.orm import sessionmaker\n",
    "from models_poll import User, Chat, Party\n",
    "\n",
    "engine = create_engine('sqlite:///parties_poll.db')\n",
    "Session = sessionmaker(bind=engine)\n",
    "session = Session()\n",
    "\n",
    "def print_users():\n",
    "    users = session.query(User).all()\n",
    "    print(\"Users:\")\n",
    "    for user in users:\n",
    "        print(f\"User ID: {user.user_id}, Name: {user.name}\")\n",
    "        print(\" Chats:\")\n",
    "        for chat in user.chats:\n",
    "            print(f\"  Chat ID: {chat.chat_id}, Name: {chat.name}\")\n",
    "\n",
    "def print_chats():\n",
    "    chats = session.query(Chat).all()\n",
    "    print(\"Chats:\")\n",
    "    for chat in chats:\n",
    "        print(f\"Chat ID: {chat.chat_id}, Name: {chat.name}\")\n",
    "        print(\" Members:\")\n",
    "        for member in chat.members:\n",
    "            print(f\"  User ID: {member.user_id}, Name: {member.name}\")\n",
    "\n",
    "def print_parties():\n",
    "    parties = session.query(Party).all()\n",
    "    print(\"Parties:\")\n",
    "    for party in parties:\n",
    "        print(f\"Party ID: {party.party_id}, Description: {party.description}\")\n",
    "        print(\" Notified Users:\")\n",
    "        for user in party.notified:\n",
    "            print(f\"  User ID: {user.user_id}, Name: {user.name}\")\n",
    "\n",
    "if __name__ == \"__main__\":\n",
    "    print_users()\n",
    "    print()\n",
    "    print_chats()\n",
    "    print()\n",
    "    print_parties()\n"
   ]
  },
  {
   "cell_type": "code",
   "execution_count": 11,
   "metadata": {},
   "outputs": [
    {
     "name": "stdout",
     "output_type": "stream",
     "text": [
      "WARNING: requirements.txt already exists, use --force to overwrite it\n"
     ]
    }
   ],
   "source": [
    "! pipreqs --encoding=iso-8859-1"
   ]
  },
  {
   "cell_type": "code",
   "execution_count": 10,
   "metadata": {},
   "outputs": [],
   "source": [
    "!pip freeze > requirements.txt"
   ]
  }
 ],
 "metadata": {
  "kernelspec": {
   "display_name": ".venv",
   "language": "python",
   "name": "python3"
  },
  "language_info": {
   "codemirror_mode": {
    "name": "ipython",
    "version": 3
   },
   "file_extension": ".py",
   "mimetype": "text/x-python",
   "name": "python",
   "nbconvert_exporter": "python",
   "pygments_lexer": "ipython3",
   "version": "3.11.5"
  }
 },
 "nbformat": 4,
 "nbformat_minor": 2
}
